{
 "cells": [
  {
   "cell_type": "code",
   "execution_count": 1,
   "id": "59ad114b",
   "metadata": {},
   "outputs": [
    {
     "name": "stderr",
     "output_type": "stream",
     "text": [
      "c:\\Users\\Suraj\\AppData\\Local\\Programs\\Python\\Python310\\lib\\site-packages\\tqdm\\auto.py:22: TqdmWarning: IProgress not found. Please update jupyter and ipywidgets. See https://ipywidgets.readthedocs.io/en/stable/user_install.html\n",
      "  from .autonotebook import tqdm as notebook_tqdm\n"
     ]
    }
   ],
   "source": [
    "from transformers import AutoTokenizer, AutoModelForSequenceClassification\n",
    "import torch\n",
    "import requests\n",
    "from bs4 import BeautifulSoup\n",
    "import re"
   ]
  },
  {
   "cell_type": "code",
   "execution_count": 2,
   "id": "acd57dd4",
   "metadata": {},
   "outputs": [],
   "source": [
    "import pandas as pd\n",
    "import numpy as np"
   ]
  },
  {
   "cell_type": "code",
   "execution_count": 3,
   "id": "77bddf3f",
   "metadata": {},
   "outputs": [
    {
     "name": "stderr",
     "output_type": "stream",
     "text": [
      "c:\\Users\\Suraj\\AppData\\Local\\Programs\\Python\\Python310\\lib\\site-packages\\torch\\serialization.py:953: UserWarning: Failed to initialize NumPy: module compiled against API version 0x10 but this version of numpy is 0xf (Triggered internally at ..\\torch\\csrc\\utils\\tensor_numpy.cpp:77.)\n",
      "  obj = cast(Storage, torch.UntypedStorage(nbytes))\n"
     ]
    }
   ],
   "source": [
    "tokenizer = AutoTokenizer.from_pretrained('nlptown/bert-base-multilingual-uncased-sentiment')\n",
    "model = AutoModelForSequenceClassification.from_pretrained('nlptown/bert-base-multilingual-uncased-sentiment')\n"
   ]
  },
  {
   "cell_type": "code",
   "execution_count": 4,
   "id": "6cec4246",
   "metadata": {},
   "outputs": [],
   "source": [
    "tokens = tokenizer.encode(\"I great, amazing, fantastic python programming\", return_tensors='pt')"
   ]
  },
  {
   "cell_type": "code",
   "execution_count": 5,
   "id": "8c0dc077",
   "metadata": {},
   "outputs": [
    {
     "data": {
      "text/plain": [
       "tensor(4)"
      ]
     },
     "execution_count": 5,
     "metadata": {},
     "output_type": "execute_result"
    }
   ],
   "source": [
    "result = model(tokens)\n",
    "(torch.argmax(result.logits))"
   ]
  },
  {
   "cell_type": "code",
   "execution_count": 6,
   "id": "cd7702e9",
   "metadata": {},
   "outputs": [],
   "source": [
    "r = requests.get('https://www.yelp.com/biz/san-tung-san-francisco-2')\n",
    "soup = BeautifulSoup(r.text, 'html.parser')\n",
    "regex = re.compile('.*comment.*')\n",
    "results = soup.find_all('p', {'class':regex})\n",
    "reviews = [review.text for review in results]"
   ]
  },
  {
   "cell_type": "code",
   "execution_count": 7,
   "id": "36c4b0ec",
   "metadata": {},
   "outputs": [
    {
     "data": {
      "text/plain": [
       "[\"Yaaaassss!!! Finally got to try the famous tee! It's always on my bookmarks.Highly recommended.- Fried chicken wings (you have to eat this anyway, it's a must)- Black Bean Noodles. I usually don't like this dish because it can be too bland or too much, but this was perfect.- Green beans- Pork dumplingsPro Tip.- There's a long wait on the weekends, we came for breakfast and still had to wait an hour. So put your name down, grab a boba, and walk around the neighborhood.- Order more chicken wings than you think you need. We thought that would be enough, but we wanted more, and unfortunately, they don't let you order more. I've never had a restaurant turn me down for ordering more! So once you order a meal, that's it. So once you order, that's it, that's all the food you get.- You can't order takeout in person, they'll kick you out. All takeout orders must be done over the phone. I witnessed an elderly man being turned away because he didn't do that and they didn't even give him the phone number. So he had to ask the couple to search for the phone number.Everything was very tasty and reasonably priced. Great value! I very, very rarely order more food in a restaurant while I'm still eating. But it was an explosion of flavor and everyone at my table was unanimous in wanting more wings, but unfortunately, what you get is what you get.\",\n",
       " 'SOOO good. We luckily came in while there was no wait and got seated immediately! Right after, the sign up sheet got filled up and there were at least 14-20 groups waiting, so would definitely recommend trying to go a little bit earlier in the evening to avoid the dinner rush. Food was realllyyyy good. Dumplings were super juicy, chicken was really flavorful and crispy, and the noodles were really flavorful too. Service was a little slow since it was super busy so it took a little bit to get the food but it was definitely worth it. The tea also tasted really good with all the different dishes. All came out super fresh, warm, and flavorful',\n",
       " \"Went just before opening on a weekend with a group of 6 and we were able to be seated immediately. Service was extremely quick and attentive. The chicken wings were definitely everyone's favorite dish - as expected. We also had the hot and sour soup, honey walnut prawns, green beans, Mongolian beef, jajangmyeon (black bean noodles), and rice. The least favorite dish among all of us was the jajangmyeon. We've all had this dish before and agreed the one served at San Tung had a more mild bean paste flavor and overall lacked flavor although the quality of the noodles was pretty good. I would order the chicken wings, green beans, and honey walnut prawns again.\",\n",
       " \"Yummy China Sun Tong region cuisine.I tried almost half of the menu, can't find anything I don't like.Prices have increased + $6-7 each dish of noodles and ala carte.Long lines as usual.1+ hour wait of you come during peak..\",\n",
       " \"Unless I'm missing something, I don't see what the big deal is with San Tung. Almost eight thousand reviews and a majority of them are positive. But why?We arrived before noon. There was a small crowd outside waiting to get a table. A smaller crowd was gathered inside right in front of the door. I get it. It was raining. But people, is it going to kill you to wait outside so your not hovering over people eating or blocking the front door?There is a waitlist which is a wipe board on the wall. I guess it works. We waited about thirty five minutes, which wasn't bad. The food was just ok. Like I said, I'm not sure what the big deal is. We ordered the Dried Fried Chicken that my fellow Yelpers raved about. Our waiter said one order served two people. There were three of us so we ordered two orders. One order could easily serve four people. The chicken was just ok. It was a sticky mess to eat. We also ordered the Shrimp and Leak Dumplings. Honestly, they looked and tasted like something I could get at Costco. We tried the Black Bean Sauce Noodles and they had no flavor. The only dish that was any good was the Honey Walnut Prawns.I think what makes San Tung unique is the chaotic experience of waiting to get a table.\",\n",
       " \"Every time I come to this place, it's always packed! Just your average, simple ambiance Chinese restaurant. Do not let that fool you cause their food is INCREDIBLE!!! Some times lines almost go out the door. So I always call for pick up. Hands down!!! THE BEST DRY FRIED CHICKEN IN THE WORLD! Lol. Probably cause I've never had it like this anywhere else. The sauce that it comes with is PHENOMENAL!!! Very UNIQUE: sweet, savory, and a kiss of spice. Just a kiss! Hehe. It's not spicy-spicy.Also, their Black Bean Noodles is TO DIE FOR! The flavor of the sauce has umami, lightly salty, subtle and leaves room for your tongue to wonder and crave for more!!! Slight seafood taste because of the squid and shrimp in it. The noods is the right texture. I wish they added more protein but good enough, I guess. I recently tried their dry-fried strings beans, as well and I LOVED IT!!! The prices increased so much but it is definitely worth it for once in awhile take out..:) eats\",\n",
       " 'Ambiance: small and packed cantonese style restaurant, poor air quality, shared tables with strangers Service: very impatient and not providing anything useful Food & Drink: numerous items on the menu, and lunch special is available \\xa0Original Dry Fried Chicken - **** chicken wings deep fried in batter with garlic, ginger and roasted pepper, 12pcs, very uneven sizes, large and small pieces, very sweet and not too spicy, recommend for the flavor  \\xa0Shrimp and Leek Dumplings - ** 12 little dumplings filled with a savory mixture of ginger and garlic infused with ground shrimp and boiled Chinese chives, terrible taste and bold msg flavors, and could barely taste shrimp \\xa0 \\xa0Tea - ** poor quality Price: moderate portions and affordable prices, about $$40 per person, no surcharge if paying cash',\n",
       " 'Does San Tung live up to its hype?I visited San Tung after a day at GGP. I walked over and coincidentally arrived just a few minutes before they opened at 4:30PM. My party of two were able to snag one of the last two tables so we didn\\'t have to wait. Omg, it was probably 4:27PM and the restaurant was already FULL. So if you\\'re planning on coming here for the first wave of guests upon opening, arrive 10-15 minutes ahead because they seemingly seat people before opening.We ordered the original dry fried chicken (ofc), dried sauteed string beans, and dry black bean sauce noodles. The black bean sauce noodles came first, and after a long day outdoors, this hit the spot. Although the menu calls it \"dry\", there was plenty of sauce in this dish. We had asked for scissors to cut the noodles since they were a bit long. I really enjoyed the black bean sauce and the stringy and chewy noodles. The shrimp was also delicious, and even the excess onions used to cook the dish were filled with flavor due to the black bean sauce. Definitely recommend for a good carb.The string beans were next and wow this was a huge plate of beans. $15 for string beans sounds like a lot, but there was probably like 6 servings here. The beans were oily and crunchy, but I would have loved a stronger garlic taste. The original dry fried chicken finally arrived and it was piping hot. One order comes with 6 wings. The wings were drenched in a sweet-tangy-spicy sauce. I did enjoy these, but they were a bit too sweet for my liking since I prefer all savory wings. I don\\'t love fried chicken so for me, this was expendable. However, if you love fried chicken, I can definitely see the hype. -1 star for the service. Before we were even maybe halfway to being finished with our meal, they gave us the check. We were still eating and they gave us takeout boxes. I felt extremely rushed, but it\\'s a Chinese restaurant so unfortunately hospitality isn\\'t the best. However, if you\\'re traveling a far ways to try out San Tung, this \"rushed service\" would definitely dim my mood.',\n",
       " 'This was one of our favorite Chinese restaurants pre pandemic. We wound wait in line for an hour to get the privilege for those delicious plates.What happened?Fried fried chicken - this signature dish where we ordered a onsite -- no sharing per person-- went way down hill. - teeny tiny pieces that has stringy meat hanging from it. Unappealing- dry dry dry. Did the kitchen refry wings \\xa0from last night?- unflavored I wanted to give back the plate to the kitchen but out of respect for the business , I did not. 1 star Potstickers- came cold, skin was very thick and filling was bland 3 stars Dan San Mein- one of the stars for lunch 3 1/2 stars Shrimp with rice - couldn\\'t believe the kitchen used THREE different sized shrimps to \"fill\" the plate . Some of the shrimp were about nickel \\xa0size, mixed in with larger shrimp about quarter size. Terrible way to \"stretch\" the dish... or maybe the kitchen ran out of large shrimp? \\xa0Flavor was good but for the price?? :(Shrimp and leek dumplings- the other star for lunch. I believe this was the best dish. Came out hot and juicy with each bite. 4 starsNot the same as before, and I don\\'t know if we will ever return. Sorry to say.',\n",
       " 'Come for some of the best Chinese dry fried chicken, eggplant, black bean noodles, and more. Don\\'t come for \"healthy\" food; if you ate a nice variety, you will leave with a bit of unwanted sodium and grease in your mouth..The service is fast, and despite the rush hour, our table was still given lots of attention. Sit down at a large lazy susan, eat up, and chat with some nice and warm tea, which I loved in the cold SF night.']"
      ]
     },
     "execution_count": 7,
     "metadata": {},
     "output_type": "execute_result"
    }
   ],
   "source": [
    "reviews"
   ]
  },
  {
   "cell_type": "code",
   "execution_count": 8,
   "id": "f5890302",
   "metadata": {},
   "outputs": [],
   "source": [
    "df = pd.DataFrame(np.array(reviews), columns=[\"reviews\"])"
   ]
  },
  {
   "cell_type": "code",
   "execution_count": 9,
   "id": "3e4592b5",
   "metadata": {},
   "outputs": [],
   "source": [
    "def sentiment(text):\n",
    "    tokens = tokenizer.encode(text, return_tensors='pt')\n",
    "    result = model(tokens)\n",
    "    return int(torch.argmax(result.logits))+1\n"
   ]
  },
  {
   "cell_type": "code",
   "execution_count": 10,
   "id": "b2395628",
   "metadata": {},
   "outputs": [],
   "source": [
    "df['sentiment'] = df['reviews'].apply(lambda x: sentiment(x[:512]))"
   ]
  },
  {
   "cell_type": "code",
   "execution_count": 41,
   "id": "944b4715",
   "metadata": {},
   "outputs": [
    {
     "data": {
      "text/html": [
       "<div>\n",
       "<style scoped>\n",
       "    .dataframe tbody tr th:only-of-type {\n",
       "        vertical-align: middle;\n",
       "    }\n",
       "\n",
       "    .dataframe tbody tr th {\n",
       "        vertical-align: top;\n",
       "    }\n",
       "\n",
       "    .dataframe thead th {\n",
       "        text-align: right;\n",
       "    }\n",
       "</style>\n",
       "<table border=\"1\" class=\"dataframe\">\n",
       "  <thead>\n",
       "    <tr style=\"text-align: right;\">\n",
       "      <th></th>\n",
       "      <th>reviews</th>\n",
       "      <th>sentiment</th>\n",
       "    </tr>\n",
       "  </thead>\n",
       "  <tbody>\n",
       "    <tr>\n",
       "      <th>0</th>\n",
       "      <td>Yaaaassss!!! Finally got to try the famous tee...</td>\n",
       "      <td>5</td>\n",
       "    </tr>\n",
       "    <tr>\n",
       "      <th>1</th>\n",
       "      <td>SOOO good. We luckily came in while there was ...</td>\n",
       "      <td>4</td>\n",
       "    </tr>\n",
       "    <tr>\n",
       "      <th>2</th>\n",
       "      <td>Went just before opening on a weekend with a g...</td>\n",
       "      <td>4</td>\n",
       "    </tr>\n",
       "    <tr>\n",
       "      <th>3</th>\n",
       "      <td>Yummy China Sun Tong region cuisine.I tried al...</td>\n",
       "      <td>2</td>\n",
       "    </tr>\n",
       "    <tr>\n",
       "      <th>4</th>\n",
       "      <td>Unless I'm missing something, I don't see what...</td>\n",
       "      <td>3</td>\n",
       "    </tr>\n",
       "    <tr>\n",
       "      <th>5</th>\n",
       "      <td>Every time I come to this place, it's always p...</td>\n",
       "      <td>5</td>\n",
       "    </tr>\n",
       "    <tr>\n",
       "      <th>6</th>\n",
       "      <td>Ambiance: small and packed cantonese style res...</td>\n",
       "      <td>2</td>\n",
       "    </tr>\n",
       "    <tr>\n",
       "      <th>7</th>\n",
       "      <td>Does San Tung live up to its hype?I visited Sa...</td>\n",
       "      <td>2</td>\n",
       "    </tr>\n",
       "    <tr>\n",
       "      <th>8</th>\n",
       "      <td>This was one of our favorite Chinese restauran...</td>\n",
       "      <td>1</td>\n",
       "    </tr>\n",
       "    <tr>\n",
       "      <th>9</th>\n",
       "      <td>Come for some of the best Chinese dry fried ch...</td>\n",
       "      <td>4</td>\n",
       "    </tr>\n",
       "  </tbody>\n",
       "</table>\n",
       "</div>"
      ],
      "text/plain": [
       "                                             reviews  sentiment\n",
       "0  Yaaaassss!!! Finally got to try the famous tee...          5\n",
       "1  SOOO good. We luckily came in while there was ...          4\n",
       "2  Went just before opening on a weekend with a g...          4\n",
       "3  Yummy China Sun Tong region cuisine.I tried al...          2\n",
       "4  Unless I'm missing something, I don't see what...          3\n",
       "5  Every time I come to this place, it's always p...          5\n",
       "6  Ambiance: small and packed cantonese style res...          2\n",
       "7  Does San Tung live up to its hype?I visited Sa...          2\n",
       "8  This was one of our favorite Chinese restauran...          1\n",
       "9  Come for some of the best Chinese dry fried ch...          4"
      ]
     },
     "execution_count": 41,
     "metadata": {},
     "output_type": "execute_result"
    }
   ],
   "source": [
    "df"
   ]
  },
  {
   "cell_type": "code",
   "execution_count": 13,
   "id": "f9094bd7",
   "metadata": {},
   "outputs": [],
   "source": [
    "import matplotlib.pyplot as plt\n",
    "from sklearn.cluster import KMeans"
   ]
  },
  {
   "cell_type": "code",
   "execution_count": 26,
   "id": "ff139ede",
   "metadata": {},
   "outputs": [],
   "source": [
    "X = df.iloc[:, 1:2].values\n",
    "\n"
   ]
  },
  {
   "cell_type": "code",
   "execution_count": 27,
   "id": "0abacfe9",
   "metadata": {},
   "outputs": [],
   "source": [
    "kmeans = KMeans(n_clusters=5, init=\"k-means++\", random_state=42)\n",
    "y_kmeans = kmeans.fit_predict(X)"
   ]
  },
  {
   "cell_type": "code",
   "execution_count": 40,
   "id": "b5871578",
   "metadata": {},
   "outputs": [
    {
     "name": "stdout",
     "output_type": "stream",
     "text": [
      "[1 2 2 0 3 1 0 0 4 2]\n"
     ]
    }
   ],
   "source": [
    "print(y_kmeans)"
   ]
  },
  {
   "cell_type": "code",
   "execution_count": 52,
   "id": "202c868f",
   "metadata": {},
   "outputs": [
    {
     "data": {
      "text/plain": [
       "4    3\n",
       "2    3\n",
       "5    2\n",
       "3    1\n",
       "1    1\n",
       "Name: sentiment, dtype: int64"
      ]
     },
     "execution_count": 52,
     "metadata": {},
     "output_type": "execute_result"
    }
   ],
   "source": [
    "df['sentiment'].value_counts()"
   ]
  }
 ],
 "metadata": {
  "kernelspec": {
   "display_name": "Python 3",
   "language": "python",
   "name": "python3"
  },
  "language_info": {
   "codemirror_mode": {
    "name": "ipython",
    "version": 3
   },
   "file_extension": ".py",
   "mimetype": "text/x-python",
   "name": "python",
   "nbconvert_exporter": "python",
   "pygments_lexer": "ipython3",
   "version": "3.10.4"
  },
  "vscode": {
   "interpreter": {
    "hash": "c79d3201a081432f653be85d41cc132697727954be573b0a2142222cac93af21"
   }
  }
 },
 "nbformat": 4,
 "nbformat_minor": 5
}
